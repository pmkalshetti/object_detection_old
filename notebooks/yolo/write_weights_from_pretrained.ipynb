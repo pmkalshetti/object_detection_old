{
 "cells": [
  {
   "cell_type": "code",
   "execution_count": 1,
   "metadata": {},
   "outputs": [
    {
     "name": "stderr",
     "output_type": "stream",
     "text": [
      "/misc/me/pratikm/virtualEnv/lib/python3.5/site-packages/h5py/__init__.py:36: FutureWarning: Conversion of the second argument of issubdtype from `float` to `np.floating` is deprecated. In future, it will be treated as `np.float64 == np.dtype(float).type`.\n",
      "  from ._conv import register_converters as _register_converters\n",
      "Using TensorFlow backend.\n"
     ]
    }
   ],
   "source": [
    "import tensorflow as tf\n",
    "import keras\n",
    "import json\n",
    "from frontend import YOLO\n",
    "import pickle"
   ]
  },
  {
   "cell_type": "code",
   "execution_count": 2,
   "metadata": {},
   "outputs": [],
   "source": [
    "config_path  = 'config.json'\n",
    "weights_path = 'saved_weights_voc.h5'\n",
    "image_path   = 'images/dog.jpg'\n",
    "\n",
    "with open(config_path) as config_buffer:    \n",
    "    config = json.load(config_buffer)"
   ]
  },
  {
   "cell_type": "code",
   "execution_count": 3,
   "metadata": {},
   "outputs": [
    {
     "name": "stdout",
     "output_type": "stream",
     "text": [
      "(13, 13)\n",
      "__________________________________________________________________________________________________\n",
      "Layer (type)                    Output Shape         Param #     Connected to                     \n",
      "==================================================================================================\n",
      "input_1 (InputLayer)            (None, 416, 416, 3)  0                                            \n",
      "__________________________________________________________________________________________________\n",
      "model_1 (Model)                 (None, 13, 13, 1024) 50547936    input_1[0][0]                    \n",
      "__________________________________________________________________________________________________\n",
      "DetectionLayer (Conv2D)         (None, 13, 13, 125)  128125      model_1[1][0]                    \n",
      "__________________________________________________________________________________________________\n",
      "reshape_1 (Reshape)             (None, 13, 13, 5, 25 0           DetectionLayer[0][0]             \n",
      "__________________________________________________________________________________________________\n",
      "input_2 (InputLayer)            (None, 1, 1, 1, 10,  0                                            \n",
      "__________________________________________________________________________________________________\n",
      "lambda_2 (Lambda)               (None, 13, 13, 5, 25 0           reshape_1[0][0]                  \n",
      "                                                                 input_2[0][0]                    \n",
      "==================================================================================================\n",
      "Total params: 50,676,061\n",
      "Trainable params: 50,655,389\n",
      "Non-trainable params: 20,672\n",
      "__________________________________________________________________________________________________\n"
     ]
    }
   ],
   "source": [
    "yolo = YOLO(backend             = config['model']['backend'],\n",
    "            input_size          = config['model']['input_size'], \n",
    "            labels              = config['model']['labels'], \n",
    "            max_box_per_image   = config['model']['max_box_per_image'],\n",
    "            anchors             = config['model']['anchors'])\n",
    "\n",
    "###############################\n",
    "#   Load trained weights\n",
    "###############################    "
   ]
  },
  {
   "cell_type": "code",
   "execution_count": 4,
   "metadata": {},
   "outputs": [],
   "source": [
    "yolo.load_weights(weights_path)"
   ]
  },
  {
   "cell_type": "code",
   "execution_count": 7,
   "metadata": {},
   "outputs": [
    {
     "name": "stdout",
     "output_type": "stream",
     "text": [
      "input_3\n",
      "conv_1\n",
      "norm_1\n",
      "leaky_re_lu_1\n",
      "max_pooling2d_1\n",
      "conv_2\n",
      "norm_2\n",
      "leaky_re_lu_2\n",
      "max_pooling2d_2\n",
      "conv_3\n",
      "norm_3\n",
      "leaky_re_lu_3\n",
      "conv_4\n",
      "norm_4\n",
      "leaky_re_lu_4\n",
      "conv_5\n",
      "norm_5\n",
      "leaky_re_lu_5\n",
      "max_pooling2d_3\n",
      "conv_6\n",
      "norm_6\n",
      "leaky_re_lu_6\n",
      "conv_7\n",
      "norm_7\n",
      "leaky_re_lu_7\n",
      "conv_8\n",
      "norm_8\n",
      "leaky_re_lu_8\n",
      "max_pooling2d_4\n",
      "conv_9\n",
      "norm_9\n",
      "leaky_re_lu_9\n",
      "conv_10\n",
      "norm_10\n",
      "leaky_re_lu_10\n",
      "conv_11\n",
      "norm_11\n",
      "leaky_re_lu_11\n",
      "conv_12\n",
      "norm_12\n",
      "leaky_re_lu_12\n",
      "conv_13\n",
      "norm_13\n",
      "leaky_re_lu_13\n",
      "max_pooling2d_5\n",
      "conv_14\n",
      "norm_14\n",
      "leaky_re_lu_14\n",
      "conv_15\n",
      "norm_15\n",
      "leaky_re_lu_15\n",
      "conv_16\n",
      "norm_16\n",
      "leaky_re_lu_16\n",
      "conv_17\n",
      "norm_17\n",
      "leaky_re_lu_17\n",
      "conv_18\n",
      "norm_18\n",
      "leaky_re_lu_18\n",
      "conv_19\n",
      "norm_19\n",
      "conv_21\n",
      "leaky_re_lu_19\n",
      "norm_21\n",
      "conv_20\n",
      "leaky_re_lu_21\n",
      "norm_20\n",
      "lambda_1\n",
      "leaky_re_lu_20\n",
      "concatenate_1\n",
      "conv_22\n",
      "norm_22\n",
      "leaky_re_lu_22\n"
     ]
    }
   ],
   "source": [
    "for l in yolo.model.layers:\n",
    "    if l.name == 'model_1':\n",
    "        for i in l.layers:\n",
    "            print(i.name)"
   ]
  },
  {
   "cell_type": "code",
   "execution_count": 8,
   "metadata": {},
   "outputs": [
    {
     "name": "stdout",
     "output_type": "stream",
     "text": [
      "0 conv_1 (None, 416, 416, 32)\n",
      "1 norm_1 (None, 416, 416, 32)\n",
      "2 max_pooling2d_1 (None, 208, 208, 32)\n",
      "3 conv_2 (None, 208, 208, 64)\n",
      "4 norm_2 (None, 208, 208, 64)\n",
      "5 max_pooling2d_2 (None, 104, 104, 64)\n",
      "6 conv_3 (None, 104, 104, 128)\n",
      "7 norm_3 (None, 104, 104, 128)\n",
      "8 conv_4 (None, 104, 104, 64)\n",
      "9 norm_4 (None, 104, 104, 64)\n",
      "10 conv_5 (None, 104, 104, 128)\n",
      "11 norm_5 (None, 104, 104, 128)\n",
      "12 max_pooling2d_3 (None, 52, 52, 128)\n",
      "13 conv_6 (None, 52, 52, 256)\n",
      "14 norm_6 (None, 52, 52, 256)\n",
      "15 conv_7 (None, 52, 52, 128)\n",
      "16 norm_7 (None, 52, 52, 128)\n",
      "17 conv_8 (None, 52, 52, 256)\n",
      "18 norm_8 (None, 52, 52, 256)\n",
      "19 max_pooling2d_4 (None, 26, 26, 256)\n",
      "20 conv_9 (None, 26, 26, 512)\n",
      "21 norm_9 (None, 26, 26, 512)\n",
      "22 conv_10 (None, 26, 26, 256)\n",
      "23 norm_10 (None, 26, 26, 256)\n",
      "24 conv_11 (None, 26, 26, 512)\n",
      "25 norm_11 (None, 26, 26, 512)\n",
      "26 conv_12 (None, 26, 26, 256)\n",
      "27 norm_12 (None, 26, 26, 256)\n",
      "28 conv_13 (None, 26, 26, 512)\n",
      "29 norm_13 (None, 26, 26, 512)\n",
      "30 max_pooling2d_5 (None, 13, 13, 512)\n",
      "31 conv_14 (None, 13, 13, 1024)\n",
      "32 norm_14 (None, 13, 13, 1024)\n",
      "33 conv_15 (None, 13, 13, 512)\n",
      "34 norm_15 (None, 13, 13, 512)\n",
      "35 conv_16 (None, 13, 13, 1024)\n",
      "36 norm_16 (None, 13, 13, 1024)\n",
      "37 conv_17 (None, 13, 13, 512)\n",
      "38 norm_17 (None, 13, 13, 512)\n",
      "39 conv_18 (None, 13, 13, 1024)\n",
      "40 norm_18 (None, 13, 13, 1024)\n",
      "41 conv_19 (None, 13, 13, 1024)\n",
      "42 norm_19 (None, 13, 13, 1024)\n",
      "43 conv_21 (None, 26, 26, 64)\n",
      "44 norm_21 (None, 26, 26, 64)\n",
      "45 conv_20 (None, 13, 13, 1024)\n",
      "46 norm_20 (None, 13, 13, 1024)\n",
      "47 conv_22 (None, 13, 13, 1024)\n",
      "48 norm_22 (None, 13, 13, 1024)\n",
      "49 DetectionLayer (None, 13, 13, 125)\n"
     ]
    }
   ],
   "source": [
    "idx_layer = 0\n",
    "for layer in yolo.model.layers:\n",
    "    if layer.name == 'model_1':\n",
    "        for l in layer.layers:\n",
    "            if l.name.startswith('leaky') or l.name.startswith('input') or \\\n",
    "                l.name.startswith('concatenate') or l.name.startswith('lambda'):\n",
    "                continue\n",
    "            w = l.get_weights()\n",
    "            filename = 'weights/' + str(idx_layer)\n",
    "            with open(filename, 'wb') as file:\n",
    "                pickle.dump(w, file)\n",
    "            print(idx_layer, l.name, l.output_shape)\n",
    "            idx_layer += 1\n",
    "    \n",
    "    if layer.name == 'DetectionLayer':\n",
    "        w = layer.get_weights()\n",
    "        filename = 'weights/' + str(idx_layer)\n",
    "        with open(filename, 'wb') as file:\n",
    "            pickle.dump(w, file)\n",
    "        print(idx_layer, layer.name, layer.output_shape)\n",
    "        idx_layer += 1"
   ]
  },
  {
   "cell_type": "code",
   "execution_count": null,
   "metadata": {},
   "outputs": [],
   "source": []
  }
 ],
 "metadata": {
  "kernelspec": {
   "display_name": "Python 3",
   "language": "python",
   "name": "python3"
  },
  "language_info": {
   "codemirror_mode": {
    "name": "ipython",
    "version": 3
   },
   "file_extension": ".py",
   "mimetype": "text/x-python",
   "name": "python",
   "nbconvert_exporter": "python",
   "pygments_lexer": "ipython3",
   "version": "3.5.2"
  }
 },
 "nbformat": 4,
 "nbformat_minor": 2
}
